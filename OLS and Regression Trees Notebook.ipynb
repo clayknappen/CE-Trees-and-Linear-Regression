{
 "cells": [
  {
   "cell_type": "code",
   "execution_count": 8,
   "metadata": {
    "collapsed": true
   },
   "outputs": [],
   "source": [
    "from IPython.display import Image\n",
    "import pandas as pd\n",
    "import statsmodels.api as sm\n",
    "from sklearn import tree\n",
    "from sklearn.tree import DecisionTreeRegressor\n",
    "import pydotplus"
   ]
  },
  {
   "cell_type": "code",
   "execution_count": 4,
   "metadata": {
    "collapsed": false
   },
   "outputs": [
    {
     "name": "stdout",
     "output_type": "stream",
     "text": [
      "1\n",
      "2\n",
      "3\n",
      "4\n",
      "5\n"
     ]
    }
   ],
   "source": [
    "def fmli_reader(): \n",
    "    #create an empty DataFrame and declare the location for the source files on github \n",
    "    fmli = pd.DataFrame() \n",
    "    url = 'https://raw.githubusercontent.com/clayknappen/CE-Trees-and-Linear-Regression/master/fmli' \n",
    "\n",
    "    cols = ['TOTEXPPQ', 'FINCBTAX', 'REF_RACE', 'SEX_REF', 'EDUC_REF', 'AGE_REF', 'FINLWT21'] \n",
    "    dtypes = {'TOTEXPPQ' : float, 'FINCBTAX' : float, 'REF_RACE' : str,  \n",
    "               'SEX_REF' : str, 'EDUC_REF' : str, 'AGE_REF' : int} \n",
    "\n",
    "    for i in range(1,6): \n",
    "        if i == 1: \n",
    "            df = pd.read_csv(url + '151x.csv', usecols=cols, dtype=dtypes) \n",
    "        elif i == 5: \n",
    "            df = pd.read_csv(url + '161.csv', usecols=cols, dtype=dtypes) \n",
    "        else: \n",
    "            df = pd.read_csv(url + '15' + str(i) + '.csv', usecols=cols, dtype=dtypes) \n",
    "            fmli = fmli.append(df) \n",
    "        del df  \n",
    "    return fmli \n",
    " \n",
    "fmli15 = fmli_reader() "
   ]
  },
  {
   "cell_type": "code",
   "execution_count": 7,
   "metadata": {
    "collapsed": false
   },
   "outputs": [
    {
     "name": "stdout",
     "output_type": "stream",
     "text": [
      "                            OLS Regression Results                            \n",
      "==============================================================================\n",
      "Dep. Variable:               TOTEXPPQ   R-squared:                       0.224\n",
      "Model:                            OLS   Adj. R-squared:                  0.224\n",
      "Method:                 Least Squares   F-statistic:                     5584.\n",
      "Date:                Wed, 26 Apr 2017   Prob (F-statistic):               0.00\n",
      "Time:                        16:05:59   Log-Likelihood:            -2.2922e+05\n",
      "No. Observations:               19371   AIC:                         4.584e+05\n",
      "Df Residuals:                   19369   BIC:                         4.585e+05\n",
      "Df Model:                           1                                         \n",
      "Covariance Type:            nonrobust                                         \n",
      "==============================================================================\n",
      "                 coef    std err          t      P>|t|      [95.0% Conf. Int.]\n",
      "------------------------------------------------------------------------------\n",
      "FINCBTAX       0.2510      0.003     74.728      0.000         0.244     0.258\n",
      "const        2.05e+04    309.219     66.294      0.000      1.99e+04  2.11e+04\n",
      "==============================================================================\n",
      "Omnibus:                    23124.981   Durbin-Watson:                   1.626\n",
      "Prob(Omnibus):                  0.000   Jarque-Bera (JB):         11140994.247\n",
      "Skew:                           5.844   Prob(JB):                         0.00\n",
      "Kurtosis:                     119.905   Cond. No.                     1.19e+05\n",
      "==============================================================================\n",
      "\n",
      "Warnings:\n",
      "[1] Standard Errors assume that the covariance matrix of the errors is correctly specified.\n",
      "[2] The condition number is large, 1.19e+05. This might indicate that there are\n",
      "strong multicollinearity or other numerical problems.\n"
     ]
    }
   ],
   "source": [
    "X = fmli15['FINCBTAX']\n",
    "X = sm.add_constant(X, prepend=False) #add an intercept term for Statsmodels to use in fitting OLS\n",
    "\n",
    "y = fmli15['TOTEXPPQ'] * 4\n",
    "\n",
    "ols = sm.OLS(y, X)\n",
    "\n",
    "res = ols.fit()\n",
    "\n",
    "print res.summary()"
   ]
  },
  {
   "cell_type": "code",
   "execution_count": 14,
   "metadata": {
    "collapsed": false
   },
   "outputs": [
    {
     "name": "stdout",
     "output_type": "stream",
     "text": [
      "0.618739686935\n"
     ]
    },
    {
     "ename": "TypeError",
     "evalue": "export_graphviz() got an unexpected keyword argument 'outfile'",
     "output_type": "error",
     "traceback": [
      "\u001b[1;31m---------------------------------------------------------------------------\u001b[0m",
      "\u001b[1;31mTypeError\u001b[0m                                 Traceback (most recent call last)",
      "\u001b[1;32m<ipython-input-14-8bc061713cdc>\u001b[0m in \u001b[0;36m<module>\u001b[1;34m()\u001b[0m\n\u001b[0;32m      6\u001b[0m dot_data = tree.export_graphviz(rt, outfile=None, \n\u001b[0;32m      7\u001b[0m                                 \u001b[0mfeature_names\u001b[0m\u001b[1;33m=\u001b[0m\u001b[1;33m[\u001b[0m\u001b[1;34m'FINCBTAX'\u001b[0m\u001b[1;33m,\u001b[0m \u001b[1;34m'CONST'\u001b[0m\u001b[1;33m]\u001b[0m\u001b[1;33m,\u001b[0m\u001b[1;33m\u001b[0m\u001b[0m\n\u001b[1;32m----> 8\u001b[1;33m                                 filled=True, rounded=True, special_characters=True)\n\u001b[0m\u001b[0;32m      9\u001b[0m \u001b[0mgraph\u001b[0m \u001b[1;33m=\u001b[0m \u001b[0mpydotplus\u001b[0m\u001b[1;33m.\u001b[0m\u001b[0mgraph_from_dot_data\u001b[0m\u001b[1;33m(\u001b[0m\u001b[0mdot_data\u001b[0m\u001b[1;33m)\u001b[0m\u001b[1;33m\u001b[0m\u001b[0m\n\u001b[0;32m     10\u001b[0m \u001b[0mImage\u001b[0m\u001b[1;33m(\u001b[0m\u001b[0mgraph\u001b[0m\u001b[1;33m.\u001b[0m\u001b[0mcreate_png\u001b[0m\u001b[1;33m(\u001b[0m\u001b[1;33m)\u001b[0m\u001b[1;33m)\u001b[0m\u001b[1;33m\u001b[0m\u001b[0m\n",
      "\u001b[1;31mTypeError\u001b[0m: export_graphviz() got an unexpected keyword argument 'outfile'"
     ]
    }
   ],
   "source": [
    "rt = DecisionTreeRegressor()\n",
    "\n",
    "rt.fit(X, y)\n",
    "print rt.score(X,y)\n",
    "\n",
    "dot_data = tree.export_graphviz(rt, outfile=None, \n",
    "                                feature_names=['FINCBTAX', 'CONST'],\n",
    "                                filled=True, rounded=True, special_characters=True)\n",
    "graph = pydotplus.graph_from_dot_data(dot_data)\n",
    "Image(graph.create_png())"
   ]
  },
  {
   "cell_type": "code",
   "execution_count": null,
   "metadata": {
    "collapsed": true
   },
   "outputs": [],
   "source": []
  }
 ],
 "metadata": {
  "kernelspec": {
   "display_name": "Python 2",
   "language": "python",
   "name": "python2"
  },
  "language_info": {
   "codemirror_mode": {
    "name": "ipython",
    "version": 2
   },
   "file_extension": ".py",
   "mimetype": "text/x-python",
   "name": "python",
   "nbconvert_exporter": "python",
   "pygments_lexer": "ipython2",
   "version": "2.7.9"
  }
 },
 "nbformat": 4,
 "nbformat_minor": 2
}
